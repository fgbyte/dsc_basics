{
 "cells": [
  {
   "cell_type": "markdown",
   "metadata": {},
   "source": [
    "# NumPy\n",
    "\n",
    "NumPy is a fundamental library for scientific computing in Python. It provides support for large, multi-dimensional arrays and matrices, along with a collection of mathematical functions to operate on these arrays. NumPy is widely used in scientific computing, data analysis, and machine learning.\n",
    "\n",
    "> Nos facilita la vida, porque toma Listas de Python y los hace matrices de NumPy, las cuales son mucho mas eficientes para computación."
   ]
  },
  {
   "cell_type": "code",
   "execution_count": 1,
   "metadata": {},
   "outputs": [],
   "source": [
    "import numpy as np"
   ]
  },
  {
   "cell_type": "markdown",
   "metadata": {},
   "source": [
    "Crear un array con los precios de una cafeteria"
   ]
  },
  {
   "cell_type": "code",
   "execution_count": 2,
   "metadata": {},
   "outputs": [],
   "source": [
    "precios = [1.0, 2.0, 3.0, 4.0, 5.0]"
   ]
  },
  {
   "cell_type": "markdown",
   "metadata": {},
   "source": [
    "Crear un array de numpy utilizando los datos de la variable precios"
   ]
  },
  {
   "cell_type": "code",
   "execution_count": 3,
   "metadata": {},
   "outputs": [
    {
     "data": {
      "text/plain": [
       "array([1., 2., 3., 4., 5.])"
      ]
     },
     "execution_count": 3,
     "metadata": {},
     "output_type": "execute_result"
    }
   ],
   "source": [
    "precios = np.array(precios)\n",
    "precios"
   ]
  },
  {
   "cell_type": "markdown",
   "metadata": {},
   "source": [
    "Sumar 3 unidades a cada elemento del array \"precios\""
   ]
  },
  {
   "cell_type": "code",
   "execution_count": 4,
   "metadata": {},
   "outputs": [
    {
     "data": {
      "text/plain": [
       "array([4., 5., 6., 7., 8.])"
      ]
     },
     "execution_count": 4,
     "metadata": {},
     "output_type": "execute_result"
    }
   ],
   "source": [
    "precios + 3"
   ]
  },
  {
   "cell_type": "markdown",
   "metadata": {},
   "source": [
    "Seleccionar el segundo valor en la lista"
   ]
  },
  {
   "cell_type": "code",
   "execution_count": 5,
   "metadata": {},
   "outputs": [
    {
     "data": {
      "text/plain": [
       "np.float64(2.0)"
      ]
     },
     "execution_count": 5,
     "metadata": {},
     "output_type": "execute_result"
    }
   ],
   "source": [
    "precios[1]  # np.float64(2.0) (sin haberle sumado 3)\n",
    "# da ese valor xq numpy convierte todos los números a float64"
   ]
  },
  {
   "cell_type": "markdown",
   "metadata": {},
   "source": [
    "Agregar el precio 6 al array de numpy"
   ]
  },
  {
   "cell_type": "code",
   "execution_count": 6,
   "metadata": {},
   "outputs": [
    {
     "data": {
      "text/plain": [
       "array([1., 2., 3., 4., 5., 6.])"
      ]
     },
     "execution_count": 6,
     "metadata": {},
     "output_type": "execute_result"
    }
   ],
   "source": [
    "precios = np.append(precios, 6)\n",
    "precios"
   ]
  },
  {
   "cell_type": "markdown",
   "metadata": {},
   "source": [
    "Borra el elemento con indice 2"
   ]
  },
  {
   "cell_type": "code",
   "execution_count": 7,
   "metadata": {},
   "outputs": [],
   "source": [
    "precios = np.delete(precios, 2)  # borra el 3er elemento"
   ]
  },
  {
   "cell_type": "code",
   "execution_count": 8,
   "metadata": {},
   "outputs": [
    {
     "data": {
      "text/plain": [
       "array([1., 2., 4., 5., 6.])"
      ]
     },
     "execution_count": 8,
     "metadata": {},
     "output_type": "execute_result"
    }
   ],
   "source": [
    "precios"
   ]
  },
  {
   "cell_type": "markdown",
   "metadata": {},
   "source": [
    "Filtrar y mostrar los elementos del array que sean menores a 5"
   ]
  },
  {
   "cell_type": "code",
   "execution_count": 9,
   "metadata": {},
   "outputs": [
    {
     "data": {
      "text/plain": [
       "array([1., 2., 4.])"
      ]
     },
     "execution_count": 9,
     "metadata": {},
     "output_type": "execute_result"
    }
   ],
   "source": [
    "precios[precios < 5]  # boolean indexing de NumPy"
   ]
  },
  {
   "cell_type": "markdown",
   "metadata": {},
   "source": [
    "Obtenga el valor mínimo, el promedio y la desviación estandar de los elementos del array \"precios\""
   ]
  },
  {
   "cell_type": "markdown",
   "metadata": {},
   "source": [
    "NumPy proporciona muchos métodos estadísticos útiles como:\n",
    "\n",
    "- mean() - media\n",
    "- median() - mediana\n",
    "- std() - desviación estándar\n",
    "- var() - varianza\n",
    "- min() - mínimo\n",
    "- max() - máximo\n",
    "- y muchos más..."
   ]
  },
  {
   "cell_type": "code",
   "execution_count": 10,
   "metadata": {},
   "outputs": [
    {
     "data": {
      "text/plain": [
       "np.float64(1.0)"
      ]
     },
     "execution_count": 10,
     "metadata": {},
     "output_type": "execute_result"
    }
   ],
   "source": [
    "precios.min()"
   ]
  },
  {
   "cell_type": "code",
   "execution_count": 11,
   "metadata": {},
   "outputs": [
    {
     "data": {
      "text/plain": [
       "np.float64(6.0)"
      ]
     },
     "execution_count": 11,
     "metadata": {},
     "output_type": "execute_result"
    }
   ],
   "source": [
    "precios.max()"
   ]
  },
  {
   "cell_type": "code",
   "execution_count": 12,
   "metadata": {},
   "outputs": [
    {
     "data": {
      "text/plain": [
       "np.float64(3.6)"
      ]
     },
     "execution_count": 12,
     "metadata": {},
     "output_type": "execute_result"
    }
   ],
   "source": [
    "precios.mean()  # para calcular el promedio"
   ]
  },
  {
   "cell_type": "code",
   "execution_count": 13,
   "metadata": {},
   "outputs": [
    {
     "data": {
      "text/plain": [
       "np.float64(1.8547236990991407)"
      ]
     },
     "execution_count": 13,
     "metadata": {},
     "output_type": "execute_result"
    }
   ],
   "source": [
    "precios.std()  # para calcular la desviación estándar"
   ]
  },
  {
   "cell_type": "markdown",
   "metadata": {},
   "source": [
    "- A low standard deviation means the values tend to be close to the mean\n",
    "- A high standard deviation means the values are spread out over a wider range"
   ]
  },
  {
   "cell_type": "markdown",
   "metadata": {},
   "source": [
    "Crear un array en Numpy utilizando los datos de la variable \"calif_esp\" y asignarlo a la variable \"calif_array\""
   ]
  },
  {
   "cell_type": "code",
   "execution_count": 14,
   "metadata": {},
   "outputs": [
    {
     "data": {
      "text/plain": [
       "[[85, 90, 78], [88, 92, 80], [87, 91, 83], [84, 85, 82]]"
      ]
     },
     "execution_count": 14,
     "metadata": {},
     "output_type": "execute_result"
    }
   ],
   "source": [
    "calif_esp = [\n",
    "    [85, 90, 78],\n",
    "    [88, 92, 80],\n",
    "    [87, 91, 83],\n",
    "    [84, 85, 82],\n",
    "]\n",
    "calif_esp"
   ]
  },
  {
   "cell_type": "code",
   "execution_count": 15,
   "metadata": {},
   "outputs": [
    {
     "data": {
      "text/plain": [
       "array([[85, 90, 78],\n",
       "       [88, 92, 80],\n",
       "       [87, 91, 83],\n",
       "       [84, 85, 82]])"
      ]
     },
     "execution_count": 15,
     "metadata": {},
     "output_type": "execute_result"
    }
   ],
   "source": [
    "calif_array = np.array(calif_esp)\n",
    "calif_array"
   ]
  },
  {
   "cell_type": "markdown",
   "metadata": {},
   "source": [
    "Atributos importantes:\n",
    "\n",
    "- shape: tupla que indica el - tamaño de cada dimensión\n",
    "- ndim: número de dimensiones\n",
    "- size: número total de elementos\n",
    "- dtype: tipo de datos del array"
   ]
  },
  {
   "cell_type": "markdown",
   "metadata": {},
   "source": [
    "Obtener la forma (shape) del array calif_array"
   ]
  },
  {
   "cell_type": "code",
   "execution_count": 16,
   "metadata": {},
   "outputs": [
    {
     "data": {
      "text/plain": [
       "(4, 3)"
      ]
     },
     "execution_count": 16,
     "metadata": {},
     "output_type": "execute_result"
    }
   ],
   "source": [
    "calif_array.shape  # (4 filas, 3 columnas)"
   ]
  },
  {
   "cell_type": "markdown",
   "metadata": {},
   "source": [
    "Obtener el numero de dimensiones (ndim) del array"
   ]
  },
  {
   "cell_type": "code",
   "execution_count": 17,
   "metadata": {},
   "outputs": [
    {
     "data": {
      "text/plain": [
       "2"
      ]
     },
     "execution_count": 17,
     "metadata": {},
     "output_type": "execute_result"
    }
   ],
   "source": [
    "calif_array.ndim  # 2 (Es una arreglo de 2 dimensiones)\n",
    "\n",
    "# Los tipos de dimensiones son:\n",
    "# [] -> 1 dimensión (vector)\n",
    "# [[]] -> 2 dimensiones (matriz)\n",
    "# [[[]]] -> 3 dimensiones (tensor)\n",
    "# existe una relación entre la cantidad de [] y la dimensión"
   ]
  },
  {
   "cell_type": "markdown",
   "metadata": {},
   "source": [
    "Ejemplo array de 3 dimensiones"
   ]
  },
  {
   "cell_type": "code",
   "execution_count": 18,
   "metadata": {},
   "outputs": [
    {
     "data": {
      "text/plain": [
       "array([[[ 1,  2,  3],\n",
       "        [ 4,  5,  6]],\n",
       "\n",
       "       [[ 7,  8,  9],\n",
       "        [10, 11, 12]]])"
      ]
     },
     "execution_count": 18,
     "metadata": {},
     "output_type": "execute_result"
    }
   ],
   "source": [
    "tres_arr = np.array([[[1, 2, 3], [4, 5, 6]], [[7, 8, 9], [10, 11, 12]]])\n",
    "tres_arr"
   ]
  },
  {
   "cell_type": "markdown",
   "metadata": {},
   "source": [
    "Obtener el numero total de elementos de un array"
   ]
  },
  {
   "cell_type": "code",
   "execution_count": 19,
   "metadata": {},
   "outputs": [
    {
     "data": {
      "text/plain": [
       "12"
      ]
     },
     "execution_count": 19,
     "metadata": {},
     "output_type": "execute_result"
    }
   ],
   "source": [
    "calif_array.size"
   ]
  },
  {
   "cell_type": "markdown",
   "metadata": {},
   "source": [
    "Reorganizar el array `calif_array` para que tenga una forma de 2 filas y 6 columnas utilizando el método reshape."
   ]
  },
  {
   "cell_type": "code",
   "execution_count": 20,
   "metadata": {},
   "outputs": [
    {
     "data": {
      "text/plain": [
       "array([[85, 90, 78, 88, 92, 80],\n",
       "       [87, 91, 83, 84, 85, 82]])"
      ]
     },
     "execution_count": 20,
     "metadata": {},
     "output_type": "execute_result"
    }
   ],
   "source": [
    "calif_array.reshape(2, 6)"
   ]
  },
  {
   "cell_type": "markdown",
   "metadata": {},
   "source": [
    "Crea una matriz de numpy llena de ceros con dimensiones de 2 filas y 5 columnas utilizando `zeros`"
   ]
  },
  {
   "cell_type": "code",
   "execution_count": 21,
   "metadata": {},
   "outputs": [
    {
     "data": {
      "text/plain": [
       "array([[0., 0., 0., 0., 0.],\n",
       "       [0., 0., 0., 0., 0.]])"
      ]
     },
     "execution_count": 21,
     "metadata": {},
     "output_type": "execute_result"
    }
   ],
   "source": [
    "zeros_arr = np.zeros((2, 5))\n",
    "zeros_arr"
   ]
  },
  {
   "cell_type": "markdown",
   "metadata": {},
   "source": [
    "Crea un array de Numpy que contenga valores equidistantes en el intervalo de 0 a 10 (incluyendo inicio y final), utilizando `linspace()`."
   ]
  },
  {
   "cell_type": "code",
   "execution_count": 22,
   "metadata": {},
   "outputs": [
    {
     "data": {
      "text/plain": [
       "array([ 0.        ,  1.11111111,  2.22222222,  3.33333333,  4.44444444,\n",
       "        5.55555556,  6.66666667,  7.77777778,  8.88888889, 10.        ])"
      ]
     },
     "execution_count": 22,
     "metadata": {},
     "output_type": "execute_result"
    }
   ],
   "source": [
    "np.linspace(0, 10, num=10)"
   ]
  },
  {
   "cell_type": "markdown",
   "metadata": {},
   "source": [
    "Crea un generador de numeros aleatorios (rg) con la semilla igual a 2"
   ]
  },
  {
   "cell_type": "code",
   "execution_count": 23,
   "metadata": {},
   "outputs": [],
   "source": [
    "rg = np.random.default_rng(2)"
   ]
  },
  {
   "cell_type": "markdown",
   "metadata": {},
   "source": [
    "Genera un array de 300 numeros aleatorios entre 0 y 1 utilizando el generador de números `rg` creado previamente"
   ]
  },
  {
   "cell_type": "code",
   "execution_count": 24,
   "metadata": {},
   "outputs": [],
   "source": [
    "random = rg.random(300)"
   ]
  },
  {
   "cell_type": "code",
   "execution_count": 25,
   "metadata": {},
   "outputs": [
    {
     "data": {
      "text/plain": [
       "array([0.26161213, 0.29849114, 0.81422574, 0.09191594, 0.60010053,\n",
       "       0.72856053, 0.18790107, 0.05514663, 0.27496937, 0.65743301,\n",
       "       0.56226566, 0.15006226, 0.43263079, 0.6692973 , 0.42278467,\n",
       "       0.6331844 , 0.96743595, 0.68306482, 0.39162483, 0.18725257,\n",
       "       0.34596067, 0.51106597, 0.89120941, 0.77556394, 0.3181466 ,\n",
       "       0.9242169 , 0.47090989, 0.69375884, 0.10720731, 0.10454356,\n",
       "       0.20190745, 0.88444967, 0.67981146, 0.84923632, 0.64443627,\n",
       "       0.4065424 , 0.51657819, 0.59344352, 0.86211798, 0.43818617,\n",
       "       0.89224011, 0.61371694, 0.82935613, 0.49805605, 0.69251813,\n",
       "       0.33902537, 0.5228285 , 0.21622339, 0.1007036 , 0.03860413,\n",
       "       0.70194948, 0.45643062, 0.89773415, 0.8351832 , 0.38509513,\n",
       "       0.97367877, 0.59206201, 0.76588331, 0.40719436, 0.19616991,\n",
       "       0.17177702, 0.18120623, 0.60380552, 0.11263286, 0.01991075,\n",
       "       0.83299696, 0.09941112, 0.45058454, 0.48849857, 0.62027241,\n",
       "       0.50401448, 0.93734314, 0.75039659, 0.5744665 , 0.61727214,\n",
       "       0.50655149, 0.96476181, 0.22662606, 0.68902714, 0.55509668,\n",
       "       0.04201179, 0.29615   , 0.92716694, 0.78456486, 0.01283109,\n",
       "       0.29662633, 0.00980535, 0.82746694, 0.11036759, 0.05745518,\n",
       "       0.98188334, 0.44586988, 0.318393  , 0.04901339, 0.38959528,\n",
       "       0.36603906, 0.52348079, 0.00678547, 0.14796288, 0.20988653,\n",
       "       0.44050452, 0.30230337, 0.61332768, 0.28543261, 0.90963301,\n",
       "       0.96186996, 0.05943487, 0.20905972, 0.56302318, 0.77066023,\n",
       "       0.06402423, 0.18480268, 0.45672012, 0.66869076, 0.90332793,\n",
       "       0.86697296, 0.79375542, 0.05273214, 0.97663649, 0.61462795,\n",
       "       0.08611582, 0.25492878, 0.62075408, 0.38564012, 0.44660348,\n",
       "       0.80458507, 0.82403098, 0.54678698, 0.7924511 , 0.40600493,\n",
       "       0.97448184, 0.60515917, 0.96769798, 0.04398769, 0.88269265,\n",
       "       0.55937719, 0.71363903, 0.19259498, 0.54869138, 0.28927792,\n",
       "       0.10548048, 0.00318677, 0.90684002, 0.67090432, 0.20502173,\n",
       "       0.25781868, 0.46559431, 0.81828725, 0.1176256 , 0.96778483,\n",
       "       0.94391077, 0.2446601 , 0.64078186, 0.36009753, 0.69732334,\n",
       "       0.0869161 , 0.46996588, 0.5884908 , 0.62647574, 0.69279547,\n",
       "       0.89138137, 0.24125021, 0.15319432, 0.39060694, 0.56882815,\n",
       "       0.96052876, 0.71050559, 0.73844255, 0.97271705, 0.26774316,\n",
       "       0.25946163, 0.42254084, 0.29542001, 0.65110339, 0.95171392,\n",
       "       0.15351149, 0.51794768, 0.6775781 , 0.49317767, 0.91374384,\n",
       "       0.73689799, 0.8821768 , 0.11176499, 0.1957635 , 0.06570423,\n",
       "       0.8293195 , 0.96281866, 0.01399102, 0.78925364, 0.7278312 ,\n",
       "       0.90818679, 0.27038547, 0.71477718, 0.23742288, 0.0760332 ,\n",
       "       0.74520406, 0.04221297, 0.69959446, 0.28346246, 0.4874234 ,\n",
       "       0.89153315, 0.24340788, 0.46832438, 0.35504945, 0.19038089,\n",
       "       0.47365147, 0.18163033, 0.79900749, 0.61482164, 0.28313075,\n",
       "       0.973105  , 0.34527684, 0.67125666, 0.73322373, 0.26522639,\n",
       "       0.0117638 , 0.89261588, 0.95641651, 0.17022808, 0.15360521,\n",
       "       0.43266742, 0.59756957, 0.98898263, 0.96349612, 0.98785284,\n",
       "       0.24556942, 0.5988832 , 0.43586914, 0.2314023 , 0.06537737,\n",
       "       0.16872837, 0.35845173, 0.08802173, 0.15073899, 0.04465149,\n",
       "       0.62290627, 0.49271648, 0.243553  , 0.52634874, 0.42444678,\n",
       "       0.65915322, 0.93266722, 0.35329211, 0.64515153, 0.21891674,\n",
       "       0.9398994 , 0.61769248, 0.15874744, 0.25705106, 0.15915136,\n",
       "       0.17913403, 0.30679886, 0.82307044, 0.4570588 , 0.27716997,\n",
       "       0.41907586, 0.26739823, 0.73368242, 0.05878125, 0.28922856,\n",
       "       0.32324609, 0.18151952, 0.73815578, 0.18024736, 0.30048134,\n",
       "       0.05647656, 0.75558564, 0.36386302, 0.65592839, 0.2172361 ,\n",
       "       0.02180019, 0.32241816, 0.77906385, 0.83744578, 0.34883976,\n",
       "       0.84694078, 0.05034893, 0.52211454, 0.25742242, 0.43907769,\n",
       "       0.22164182, 0.89356662, 0.30217467, 0.94529193, 0.10909018,\n",
       "       0.42983101, 0.44344493, 0.70943479, 0.34502227, 0.49249496,\n",
       "       0.07044906, 0.31103146, 0.72498432, 0.10591139, 0.46253567,\n",
       "       0.23672695, 0.1654845 , 0.12131551, 0.81386593, 0.68665702])"
      ]
     },
     "execution_count": 25,
     "metadata": {},
     "output_type": "execute_result"
    }
   ],
   "source": [
    "random"
   ]
  },
  {
   "cell_type": "markdown",
   "metadata": {},
   "source": [
    "Crea un histograma usando `matplotlib` para visualizar la distribución de datos"
   ]
  },
  {
   "cell_type": "markdown",
   "metadata": {},
   "source": [
    "instalamos `matplotlib` con `poetry`\n",
    "\n",
    "```sh\n",
    "poetry add matplotlib\n",
    "```\n",
    "\n",
    "usamos la function `hist`"
   ]
  },
  {
   "cell_type": "code",
   "execution_count": 26,
   "metadata": {},
   "outputs": [
    {
     "data": {
      "text/plain": [
       "(array([32., 34., 38., 25., 32., 21., 34., 25., 22., 37.]),\n",
       " array([0.00318677, 0.10176636, 0.20034594, 0.29892553, 0.39750511,\n",
       "        0.4960847 , 0.59466428, 0.69324387, 0.79182346, 0.89040304,\n",
       "        0.98898263]),\n",
       " <BarContainer object of 10 artists>)"
      ]
     },
     "execution_count": 26,
     "metadata": {},
     "output_type": "execute_result"
    },
    {
     "data": {
      "image/png": "[encoded data removed]",
      "text/plain": [
       "<Figure size 640x480 with 1 Axes>"
      ]
     },
     "metadata": {},
     "output_type": "display_data"
    }
   ],
   "source": [
    "import matplotlib.pyplot as plt\n",
    "plt.hist(random, color='purple')"
   ]
  },
  {
   "cell_type": "markdown",
   "metadata": {},
   "source": [
    "Genera un array de 400 numeros aleatorios distribuidos normalmente con media 20 y desviación estándar 10 utilizando el generador"
   ]
  },
  {
   "cell_type": "markdown",
   "metadata": {},
   "source": [
    "```py\n",
    "rg.normal(loc=20,    # media (μ) - centro de la distribución\n",
    "          scale=10,   # desviación estándar (σ) - dispersión\n",
    "          size=400)   # cantidad de números a generar\n",
    "```"
   ]
  },
  {
   "cell_type": "code",
   "execution_count": 27,
   "metadata": {},
   "outputs": [],
   "source": [
    "normal = rg.normal(20, 10, 400)  # same, aunque siempre puedo poner los params"
   ]
  },
  {
   "cell_type": "markdown",
   "metadata": {},
   "source": [
    "Crea un histograma utilizando matplotlib con los datos aleatorios anteriores, siguiendo la distribución normal dividido en 20 bins"
   ]
  },
  {
   "cell_type": "code",
   "execution_count": 28,
   "metadata": {},
   "outputs": [
    {
     "data": {
      "text/plain": [
       "Text(0, 0.5, 'Frequency')"
      ]
     },
     "execution_count": 28,
     "metadata": {},
     "output_type": "execute_result"
    },
    {
     "data": {
      "image/png": "[encoded data removed]",
      "text/plain": [
       "<Figure size 640x480 with 1 Axes>"
      ]
     },
     "metadata": {},
     "output_type": "display_data"
    }
   ],
   "source": [
    "plt.hist(normal, bins=20, color='purple')\n",
    "plt.title('Histogram of Normal Distribution')\n",
    "plt.xlabel('Value')\n",
    "plt.ylabel('Frequency')"
   ]
  }
 ],
 "metadata": {
  "kernelspec": {
   "display_name": "dsc",
   "language": "python",
   "name": "python3"
  },
  "language_info": {
   "codemirror_mode": {
    "name": "ipython",
    "version": 3
   },
   "file_extension": ".py",
   "mimetype": "text/x-python",
   "name": "python",
   "nbconvert_exporter": "python",
   "pygments_lexer": "ipython3",
   "version": "3.11.11"
  }
 },
 "nbformat": 4,
 "nbformat_minor": 2
}
