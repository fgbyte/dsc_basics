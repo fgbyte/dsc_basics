{
 "cells": [
  {
   "cell_type": "markdown",
   "metadata": {},
   "source": [
    "### Aprendizaje Supervisado\n",
    "\n",
    "#### 1.0 Limpieza de datos"
   ]
  },
  {
   "cell_type": "markdown",
   "metadata": {},
   "source": [
    "Leer el conjunto de datos a utilizar"
   ]
  },
  {
   "cell_type": "code",
   "execution_count": 1,
   "metadata": {},
   "outputs": [
    {
     "data": {
      "text/html": [
       "<div>\n",
       "<style scoped>\n",
       "    .dataframe tbody tr th:only-of-type {\n",
       "        vertical-align: middle;\n",
       "    }\n",
       "\n",
       "    .dataframe tbody tr th {\n",
       "        vertical-align: top;\n",
       "    }\n",
       "\n",
       "    .dataframe thead th {\n",
       "        text-align: right;\n",
       "    }\n",
       "</style>\n",
       "<table border=\"1\" class=\"dataframe\">\n",
       "  <thead>\n",
       "    <tr style=\"text-align: right;\">\n",
       "      <th></th>\n",
       "      <th>Id</th>\n",
       "      <th>Nombre</th>\n",
       "      <th>Liga</th>\n",
       "      <th>Prácticas</th>\n",
       "      <th>Horas_Entrenando</th>\n",
       "      <th>Altura</th>\n",
       "      <th>Precio</th>\n",
       "      <th>Juegos</th>\n",
       "      <th>Gimnasio</th>\n",
       "      <th>Fuma</th>\n",
       "      <th>Nacimiento</th>\n",
       "      <th>Nutriólogo</th>\n",
       "      <th>Horas_Casa</th>\n",
       "    </tr>\n",
       "  </thead>\n",
       "  <tbody>\n",
       "    <tr>\n",
       "      <th>0</th>\n",
       "      <td>1</td>\n",
       "      <td>Jugador 1</td>\n",
       "      <td>1</td>\n",
       "      <td>2</td>\n",
       "      <td>8</td>\n",
       "      <td>1.878248</td>\n",
       "      <td>5.983374e+05</td>\n",
       "      <td>16</td>\n",
       "      <td>Sí</td>\n",
       "      <td>No</td>\n",
       "      <td>1997-10-24</td>\n",
       "      <td>No</td>\n",
       "      <td>13</td>\n",
       "    </tr>\n",
       "    <tr>\n",
       "      <th>1</th>\n",
       "      <td>2</td>\n",
       "      <td>Jugador 2</td>\n",
       "      <td>3</td>\n",
       "      <td>6</td>\n",
       "      <td>8</td>\n",
       "      <td>1.896357</td>\n",
       "      <td>5.024140e+05</td>\n",
       "      <td>16</td>\n",
       "      <td>No</td>\n",
       "      <td>No</td>\n",
       "      <td>2001-12-29</td>\n",
       "      <td>No</td>\n",
       "      <td>6</td>\n",
       "    </tr>\n",
       "    <tr>\n",
       "      <th>2</th>\n",
       "      <td>3</td>\n",
       "      <td>Jugador 3</td>\n",
       "      <td>1</td>\n",
       "      <td>1</td>\n",
       "      <td>9</td>\n",
       "      <td>1.695546</td>\n",
       "      <td>5.836377e+05</td>\n",
       "      <td>11</td>\n",
       "      <td>No</td>\n",
       "      <td>Sí</td>\n",
       "      <td>2001-11-01</td>\n",
       "      <td>Sí</td>\n",
       "      <td>12</td>\n",
       "    </tr>\n",
       "    <tr>\n",
       "      <th>3</th>\n",
       "      <td>4</td>\n",
       "      <td>Jugador 4</td>\n",
       "      <td>1</td>\n",
       "      <td>2</td>\n",
       "      <td>12</td>\n",
       "      <td>1.705128</td>\n",
       "      <td>8.788848e+05</td>\n",
       "      <td>0</td>\n",
       "      <td>No</td>\n",
       "      <td>No</td>\n",
       "      <td>1993-06-12</td>\n",
       "      <td>Sí</td>\n",
       "      <td>6</td>\n",
       "    </tr>\n",
       "    <tr>\n",
       "      <th>4</th>\n",
       "      <td>5</td>\n",
       "      <td>Jugador 5</td>\n",
       "      <td>2</td>\n",
       "      <td>5</td>\n",
       "      <td>19</td>\n",
       "      <td>1.770933</td>\n",
       "      <td>1.250968e+06</td>\n",
       "      <td>36</td>\n",
       "      <td>Sí</td>\n",
       "      <td>Sí</td>\n",
       "      <td>1992-01-21</td>\n",
       "      <td>Sí</td>\n",
       "      <td>12</td>\n",
       "    </tr>\n",
       "    <tr>\n",
       "      <th>...</th>\n",
       "      <td>...</td>\n",
       "      <td>...</td>\n",
       "      <td>...</td>\n",
       "      <td>...</td>\n",
       "      <td>...</td>\n",
       "      <td>...</td>\n",
       "      <td>...</td>\n",
       "      <td>...</td>\n",
       "      <td>...</td>\n",
       "      <td>...</td>\n",
       "      <td>...</td>\n",
       "      <td>...</td>\n",
       "      <td>...</td>\n",
       "    </tr>\n",
       "    <tr>\n",
       "      <th>395</th>\n",
       "      <td>396</td>\n",
       "      <td>Jugador 396</td>\n",
       "      <td>1</td>\n",
       "      <td>2</td>\n",
       "      <td>13</td>\n",
       "      <td>1.780959</td>\n",
       "      <td>1.108607e+06</td>\n",
       "      <td>7</td>\n",
       "      <td>Sí</td>\n",
       "      <td>No</td>\n",
       "      <td>2001-10-31</td>\n",
       "      <td>No</td>\n",
       "      <td>14</td>\n",
       "    </tr>\n",
       "    <tr>\n",
       "      <th>396</th>\n",
       "      <td>397</td>\n",
       "      <td>Jugador 397</td>\n",
       "      <td>1</td>\n",
       "      <td>1</td>\n",
       "      <td>9</td>\n",
       "      <td>1.726345</td>\n",
       "      <td>5.961114e+05</td>\n",
       "      <td>14</td>\n",
       "      <td>No</td>\n",
       "      <td>Sí</td>\n",
       "      <td>2000-02-27</td>\n",
       "      <td>Sí</td>\n",
       "      <td>5</td>\n",
       "    </tr>\n",
       "    <tr>\n",
       "      <th>397</th>\n",
       "      <td>398</td>\n",
       "      <td>Jugador 398</td>\n",
       "      <td>2</td>\n",
       "      <td>3</td>\n",
       "      <td>9</td>\n",
       "      <td>1.760833</td>\n",
       "      <td>8.408007e+05</td>\n",
       "      <td>0</td>\n",
       "      <td>Sí</td>\n",
       "      <td>Sí</td>\n",
       "      <td>1994-02-24</td>\n",
       "      <td>No</td>\n",
       "      <td>13</td>\n",
       "    </tr>\n",
       "    <tr>\n",
       "      <th>398</th>\n",
       "      <td>399</td>\n",
       "      <td>Jugador 399</td>\n",
       "      <td>2</td>\n",
       "      <td>7</td>\n",
       "      <td>19</td>\n",
       "      <td>1.655166</td>\n",
       "      <td>1.241644e+06</td>\n",
       "      <td>4</td>\n",
       "      <td>No</td>\n",
       "      <td>Sí</td>\n",
       "      <td>1999-11-06</td>\n",
       "      <td>No</td>\n",
       "      <td>11</td>\n",
       "    </tr>\n",
       "    <tr>\n",
       "      <th>399</th>\n",
       "      <td>400</td>\n",
       "      <td>Jugador 400</td>\n",
       "      <td>3</td>\n",
       "      <td>3</td>\n",
       "      <td>5</td>\n",
       "      <td>1.640850</td>\n",
       "      <td>5.686441e+05</td>\n",
       "      <td>2</td>\n",
       "      <td>No</td>\n",
       "      <td>Sí</td>\n",
       "      <td>1995-08-31</td>\n",
       "      <td>Sí</td>\n",
       "      <td>10</td>\n",
       "    </tr>\n",
       "  </tbody>\n",
       "</table>\n",
       "<p>400 rows × 13 columns</p>\n",
       "</div>"
      ],
      "text/plain": [
       "      Id       Nombre  Liga  Prácticas  Horas_Entrenando    Altura  \\\n",
       "0      1    Jugador 1     1          2                 8  1.878248   \n",
       "1      2    Jugador 2     3          6                 8  1.896357   \n",
       "2      3    Jugador 3     1          1                 9  1.695546   \n",
       "3      4    Jugador 4     1          2                12  1.705128   \n",
       "4      5    Jugador 5     2          5                19  1.770933   \n",
       "..   ...          ...   ...        ...               ...       ...   \n",
       "395  396  Jugador 396     1          2                13  1.780959   \n",
       "396  397  Jugador 397     1          1                 9  1.726345   \n",
       "397  398  Jugador 398     2          3                 9  1.760833   \n",
       "398  399  Jugador 399     2          7                19  1.655166   \n",
       "399  400  Jugador 400     3          3                 5  1.640850   \n",
       "\n",
       "           Precio  Juegos Gimnasio Fuma Nacimiento Nutriólogo  Horas_Casa  \n",
       "0    5.983374e+05      16       Sí   No 1997-10-24         No          13  \n",
       "1    5.024140e+05      16       No   No 2001-12-29         No           6  \n",
       "2    5.836377e+05      11       No   Sí 2001-11-01         Sí          12  \n",
       "3    8.788848e+05       0       No   No 1993-06-12         Sí           6  \n",
       "4    1.250968e+06      36       Sí   Sí 1992-01-21         Sí          12  \n",
       "..            ...     ...      ...  ...        ...        ...         ...  \n",
       "395  1.108607e+06       7       Sí   No 2001-10-31         No          14  \n",
       "396  5.961114e+05      14       No   Sí 2000-02-27         Sí           5  \n",
       "397  8.408007e+05       0       Sí   Sí 1994-02-24         No          13  \n",
       "398  1.241644e+06       4       No   Sí 1999-11-06         No          11  \n",
       "399  5.686441e+05       2       No   Sí 1995-08-31         Sí          10  \n",
       "\n",
       "[400 rows x 13 columns]"
      ]
     },
     "execution_count": 1,
     "metadata": {},
     "output_type": "execute_result"
    }
   ],
   "source": [
    "import pandas as pd\n",
    "import numpy as np\n",
    "import matplotlib.pyplot as plt\n",
    "import seaborn as sns\n",
    "\n",
    "data = pd.read_excel('../db/futbolistas.xlsx')\n",
    "data"
   ]
  },
  {
   "cell_type": "markdown",
   "metadata": {},
   "source": [
    "Obtén el tamaño del dataset"
   ]
  },
  {
   "cell_type": "code",
   "execution_count": 2,
   "metadata": {},
   "outputs": [
    {
     "data": {
      "text/plain": [
       "(400, 13)"
      ]
     },
     "execution_count": 2,
     "metadata": {},
     "output_type": "execute_result"
    }
   ],
   "source": [
    "data.shape"
   ]
  },
  {
   "cell_type": "markdown",
   "metadata": {},
   "source": [
    "Calcular el numero de datos unicos"
   ]
  },
  {
   "cell_type": "code",
   "execution_count": 3,
   "metadata": {},
   "outputs": [
    {
     "data": {
      "text/plain": [
       "Id                  400\n",
       "Nombre              400\n",
       "Liga                  3\n",
       "Prácticas             7\n",
       "Horas_Entrenando     15\n",
       "Altura              400\n",
       "Precio              400\n",
       "Juegos               40\n",
       "Gimnasio              2\n",
       "Fuma                  2\n",
       "Nacimiento          389\n",
       "Nutriólogo            2\n",
       "Horas_Casa           10\n",
       "dtype: int64"
      ]
     },
     "execution_count": 3,
     "metadata": {},
     "output_type": "execute_result"
    }
   ],
   "source": [
    "data.nunique()"
   ]
  },
  {
   "cell_type": "markdown",
   "metadata": {},
   "source": [
    "Enlistar la informacion de tipo de variables"
   ]
  },
  {
   "cell_type": "code",
   "execution_count": 4,
   "metadata": {},
   "outputs": [
    {
     "name": "stdout",
     "output_type": "stream",
     "text": [
      "<class 'pandas.core.frame.DataFrame'>\n",
      "RangeIndex: 400 entries, 0 to 399\n",
      "Data columns (total 13 columns):\n",
      " #   Column            Non-Null Count  Dtype         \n",
      "---  ------            --------------  -----         \n",
      " 0   Id                400 non-null    int64         \n",
      " 1   Nombre            400 non-null    object        \n",
      " 2   Liga              400 non-null    int64         \n",
      " 3   Prácticas         400 non-null    int64         \n",
      " 4   Horas_Entrenando  400 non-null    int64         \n",
      " 5   Altura            400 non-null    float64       \n",
      " 6   Precio            400 non-null    float64       \n",
      " 7   Juegos            400 non-null    int64         \n",
      " 8   Gimnasio          400 non-null    object        \n",
      " 9   Fuma              400 non-null    object        \n",
      " 10  Nacimiento        400 non-null    datetime64[ns]\n",
      " 11  Nutriólogo        400 non-null    object        \n",
      " 12  Horas_Casa        400 non-null    int64         \n",
      "dtypes: datetime64[ns](1), float64(2), int64(6), object(4)\n",
      "memory usage: 40.8+ KB\n"
     ]
    }
   ],
   "source": [
    "data.info()"
   ]
  },
  {
   "cell_type": "markdown",
   "metadata": {},
   "source": [
    "Calcular la cantidad de numeros nulos en cada columna"
   ]
  },
  {
   "cell_type": "code",
   "execution_count": 5,
   "metadata": {},
   "outputs": [
    {
     "data": {
      "text/plain": [
       "Id                  0\n",
       "Nombre              0\n",
       "Liga                0\n",
       "Prácticas           0\n",
       "Horas_Entrenando    0\n",
       "Altura              0\n",
       "Precio              0\n",
       "Juegos              0\n",
       "Gimnasio            0\n",
       "Fuma                0\n",
       "Nacimiento          0\n",
       "Nutriólogo          0\n",
       "Horas_Casa          0\n",
       "dtype: int64"
      ]
     },
     "execution_count": 5,
     "metadata": {},
     "output_type": "execute_result"
    }
   ],
   "source": [
    "data.isnull().sum()"
   ]
  },
  {
   "cell_type": "markdown",
   "metadata": {},
   "source": [
    "Obtener las caracteristicas estadisticas"
   ]
  },
  {
   "cell_type": "code",
   "execution_count": 6,
   "metadata": {},
   "outputs": [
    {
     "data": {
      "text/html": [
       "<div>\n",
       "<style scoped>\n",
       "    .dataframe tbody tr th:only-of-type {\n",
       "        vertical-align: middle;\n",
       "    }\n",
       "\n",
       "    .dataframe tbody tr th {\n",
       "        vertical-align: top;\n",
       "    }\n",
       "\n",
       "    .dataframe thead th {\n",
       "        text-align: right;\n",
       "    }\n",
       "</style>\n",
       "<table border=\"1\" class=\"dataframe\">\n",
       "  <thead>\n",
       "    <tr style=\"text-align: right;\">\n",
       "      <th></th>\n",
       "      <th>Id</th>\n",
       "      <th>Liga</th>\n",
       "      <th>Prácticas</th>\n",
       "      <th>Horas_Entrenando</th>\n",
       "      <th>Altura</th>\n",
       "      <th>Precio</th>\n",
       "      <th>Juegos</th>\n",
       "      <th>Nacimiento</th>\n",
       "      <th>Horas_Casa</th>\n",
       "    </tr>\n",
       "  </thead>\n",
       "  <tbody>\n",
       "    <tr>\n",
       "      <th>count</th>\n",
       "      <td>400.000000</td>\n",
       "      <td>400.000000</td>\n",
       "      <td>400.000000</td>\n",
       "      <td>400.000000</td>\n",
       "      <td>400.000000</td>\n",
       "      <td>4.000000e+02</td>\n",
       "      <td>400.000000</td>\n",
       "      <td>400</td>\n",
       "      <td>400.000000</td>\n",
       "    </tr>\n",
       "    <tr>\n",
       "      <th>mean</th>\n",
       "      <td>200.500000</td>\n",
       "      <td>1.972500</td>\n",
       "      <td>4.015000</td>\n",
       "      <td>11.787500</td>\n",
       "      <td>1.765340</td>\n",
       "      <td>9.754184e+05</td>\n",
       "      <td>20.125000</td>\n",
       "      <td>1996-09-22 03:50:24</td>\n",
       "      <td>9.540000</td>\n",
       "    </tr>\n",
       "    <tr>\n",
       "      <th>min</th>\n",
       "      <td>1.000000</td>\n",
       "      <td>1.000000</td>\n",
       "      <td>1.000000</td>\n",
       "      <td>5.000000</td>\n",
       "      <td>1.602264</td>\n",
       "      <td>2.541771e+05</td>\n",
       "      <td>0.000000</td>\n",
       "      <td>1990-02-14 00:00:00</td>\n",
       "      <td>5.000000</td>\n",
       "    </tr>\n",
       "    <tr>\n",
       "      <th>25%</th>\n",
       "      <td>100.750000</td>\n",
       "      <td>1.000000</td>\n",
       "      <td>2.000000</td>\n",
       "      <td>8.000000</td>\n",
       "      <td>1.683686</td>\n",
       "      <td>6.644697e+05</td>\n",
       "      <td>10.000000</td>\n",
       "      <td>1993-03-26 12:00:00</td>\n",
       "      <td>7.000000</td>\n",
       "    </tr>\n",
       "    <tr>\n",
       "      <th>50%</th>\n",
       "      <td>200.500000</td>\n",
       "      <td>2.000000</td>\n",
       "      <td>4.000000</td>\n",
       "      <td>12.000000</td>\n",
       "      <td>1.757894</td>\n",
       "      <td>9.321129e+05</td>\n",
       "      <td>20.000000</td>\n",
       "      <td>1996-07-31 12:00:00</td>\n",
       "      <td>10.000000</td>\n",
       "    </tr>\n",
       "    <tr>\n",
       "      <th>75%</th>\n",
       "      <td>300.250000</td>\n",
       "      <td>3.000000</td>\n",
       "      <td>6.000000</td>\n",
       "      <td>15.000000</td>\n",
       "      <td>1.847087</td>\n",
       "      <td>1.235664e+06</td>\n",
       "      <td>30.250000</td>\n",
       "      <td>2000-03-14 18:00:00</td>\n",
       "      <td>12.000000</td>\n",
       "    </tr>\n",
       "    <tr>\n",
       "      <th>max</th>\n",
       "      <td>400.000000</td>\n",
       "      <td>3.000000</td>\n",
       "      <td>7.000000</td>\n",
       "      <td>19.000000</td>\n",
       "      <td>1.948201</td>\n",
       "      <td>2.048746e+06</td>\n",
       "      <td>39.000000</td>\n",
       "      <td>2003-12-25 00:00:00</td>\n",
       "      <td>14.000000</td>\n",
       "    </tr>\n",
       "    <tr>\n",
       "      <th>std</th>\n",
       "      <td>115.614301</td>\n",
       "      <td>0.814495</td>\n",
       "      <td>2.039651</td>\n",
       "      <td>4.222786</td>\n",
       "      <td>0.096718</td>\n",
       "      <td>3.745065e+05</td>\n",
       "      <td>11.427416</td>\n",
       "      <td>NaN</td>\n",
       "      <td>2.929994</td>\n",
       "    </tr>\n",
       "  </tbody>\n",
       "</table>\n",
       "</div>"
      ],
      "text/plain": [
       "               Id        Liga   Prácticas  Horas_Entrenando      Altura  \\\n",
       "count  400.000000  400.000000  400.000000        400.000000  400.000000   \n",
       "mean   200.500000    1.972500    4.015000         11.787500    1.765340   \n",
       "min      1.000000    1.000000    1.000000          5.000000    1.602264   \n",
       "25%    100.750000    1.000000    2.000000          8.000000    1.683686   \n",
       "50%    200.500000    2.000000    4.000000         12.000000    1.757894   \n",
       "75%    300.250000    3.000000    6.000000         15.000000    1.847087   \n",
       "max    400.000000    3.000000    7.000000         19.000000    1.948201   \n",
       "std    115.614301    0.814495    2.039651          4.222786    0.096718   \n",
       "\n",
       "             Precio      Juegos           Nacimiento  Horas_Casa  \n",
       "count  4.000000e+02  400.000000                  400  400.000000  \n",
       "mean   9.754184e+05   20.125000  1996-09-22 03:50:24    9.540000  \n",
       "min    2.541771e+05    0.000000  1990-02-14 00:00:00    5.000000  \n",
       "25%    6.644697e+05   10.000000  1993-03-26 12:00:00    7.000000  \n",
       "50%    9.321129e+05   20.000000  1996-07-31 12:00:00   10.000000  \n",
       "75%    1.235664e+06   30.250000  2000-03-14 18:00:00   12.000000  \n",
       "max    2.048746e+06   39.000000  2003-12-25 00:00:00   14.000000  \n",
       "std    3.745065e+05   11.427416                  NaN    2.929994  "
      ]
     },
     "execution_count": 6,
     "metadata": {},
     "output_type": "execute_result"
    }
   ],
   "source": [
    "data.describe()\n",
    "# esto es para ver la media, desviación estándar, mínimo, máximo, de cada columna."
   ]
  },
  {
   "cell_type": "markdown",
   "metadata": {},
   "source": [
    "### Limpieza de datos"
   ]
  },
  {
   "cell_type": "markdown",
   "metadata": {},
   "source": [
    "#### Columnas que tienen que ser eliminadas\n",
    "\n",
    "##### Por valores Unicos\n",
    "- Nacimiento\n",
    "- Altura\n",
    "- Nombre\n",
    "\n",
    "---\n",
    "\n",
    "##### Por falta de logica\n",
    "- Horas_Casa\n",
    "- Id No se necesita, tenemos el index"
   ]
  },
  {
   "cell_type": "code",
   "execution_count": 7,
   "metadata": {},
   "outputs": [
    {
     "data": {
      "text/plain": [
       "(400, 8)"
      ]
     },
     "execution_count": 7,
     "metadata": {},
     "output_type": "execute_result"
    }
   ],
   "source": [
    "# Eliminación de columnas innecesarias\n",
    "data_clean = data.drop(\n",
    "    ['Nacimiento', 'Altura', 'Nombre', 'Horas_Casa', 'Id'], axis=1)\n",
    "data_clean.shape"
   ]
  },
  {
   "cell_type": "markdown",
   "metadata": {},
   "source": [
    "#### 1.1 Transformación de variables categóricas"
   ]
  },
  {
   "cell_type": "code",
   "execution_count": 8,
   "metadata": {},
   "outputs": [
    {
     "name": "stdout",
     "output_type": "stream",
     "text": [
      "<class 'pandas.core.frame.DataFrame'>\n",
      "RangeIndex: 400 entries, 0 to 399\n",
      "Data columns (total 8 columns):\n",
      " #   Column            Non-Null Count  Dtype  \n",
      "---  ------            --------------  -----  \n",
      " 0   Liga              400 non-null    int64  \n",
      " 1   Prácticas         400 non-null    int64  \n",
      " 2   Horas_Entrenando  400 non-null    int64  \n",
      " 3   Precio            400 non-null    float64\n",
      " 4   Juegos            400 non-null    int64  \n",
      " 5   Gimnasio          400 non-null    object \n",
      " 6   Fuma              400 non-null    object \n",
      " 7   Nutriólogo        400 non-null    object \n",
      "dtypes: float64(1), int64(4), object(3)\n",
      "memory usage: 25.1+ KB\n"
     ]
    }
   ],
   "source": [
    "data_clean.info()"
   ]
  },
  {
   "cell_type": "markdown",
   "metadata": {},
   "source": [
    "Based on the `data_clean.info()` output, the categorical variables are:\n",
    "\n",
    "- Gimnasio: (dtype object)\n",
    "- Fuma: (dtype object)\n",
    "- Nutriólogo: (dtype object)\n",
    "\n",
    "> These columns likely contain string values representing categories (e.g., \"Yes\" or \"No\", or perhaps different gym names)\n",
    "\n",
    "Estas variables no las puedo meter a un modelo de regresión lineal, por lo tanto las tengo que transformar a numéricas, en este caso a binarias (0 y 1)."
   ]
  },
  {
   "cell_type": "code",
   "execution_count": 9,
   "metadata": {},
   "outputs": [
    {
     "data": {
      "text/plain": [
       "Index(['Gimnasio', 'Fuma', 'Nutriólogo'], dtype='object')"
      ]
     },
     "execution_count": 9,
     "metadata": {},
     "output_type": "execute_result"
    }
   ],
   "source": [
    "categoricos = data_clean.select_dtypes(include=['object']).columns\n",
    "categoricos"
   ]
  },
  {
   "cell_type": "code",
   "execution_count": 10,
   "metadata": {},
   "outputs": [
    {
     "data": {
      "text/plain": [
       "['Gimnasio', 'Fuma', 'Nutriólogo']"
      ]
     },
     "execution_count": 10,
     "metadata": {},
     "output_type": "execute_result"
    }
   ],
   "source": [
    "lista_categoricos = list(categoricos)\n",
    "lista_categoricos"
   ]
  },
  {
   "cell_type": "markdown",
   "metadata": {},
   "source": [
    "Convierte los datos string en numericos introduciendo variables `dummy` para los atributos de sexo y puerto de embarque"
   ]
  },
  {
   "cell_type": "code",
   "execution_count": 27,
   "metadata": {},
   "outputs": [
    {
     "data": {
      "text/html": [
       "<div>\n",
       "<style scoped>\n",
       "    .dataframe tbody tr th:only-of-type {\n",
       "        vertical-align: middle;\n",
       "    }\n",
       "\n",
       "    .dataframe tbody tr th {\n",
       "        vertical-align: top;\n",
       "    }\n",
       "\n",
       "    .dataframe thead th {\n",
       "        text-align: right;\n",
       "    }\n",
       "</style>\n",
       "<table border=\"1\" class=\"dataframe\">\n",
       "  <thead>\n",
       "    <tr style=\"text-align: right;\">\n",
       "      <th></th>\n",
       "      <th>Liga</th>\n",
       "      <th>Prácticas</th>\n",
       "      <th>Horas_Entrenando</th>\n",
       "      <th>Precio</th>\n",
       "      <th>Juegos</th>\n",
       "      <th>Gimnasio_Sí</th>\n",
       "      <th>Fuma_Sí</th>\n",
       "      <th>Nutriólogo_Sí</th>\n",
       "    </tr>\n",
       "  </thead>\n",
       "  <tbody>\n",
       "    <tr>\n",
       "      <th>0</th>\n",
       "      <td>1</td>\n",
       "      <td>2</td>\n",
       "      <td>8</td>\n",
       "      <td>5.983374e+05</td>\n",
       "      <td>16</td>\n",
       "      <td>1</td>\n",
       "      <td>0</td>\n",
       "      <td>0</td>\n",
       "    </tr>\n",
       "    <tr>\n",
       "      <th>1</th>\n",
       "      <td>3</td>\n",
       "      <td>6</td>\n",
       "      <td>8</td>\n",
       "      <td>5.024140e+05</td>\n",
       "      <td>16</td>\n",
       "      <td>0</td>\n",
       "      <td>0</td>\n",
       "      <td>0</td>\n",
       "    </tr>\n",
       "    <tr>\n",
       "      <th>2</th>\n",
       "      <td>1</td>\n",
       "      <td>1</td>\n",
       "      <td>9</td>\n",
       "      <td>5.836377e+05</td>\n",
       "      <td>11</td>\n",
       "      <td>0</td>\n",
       "      <td>1</td>\n",
       "      <td>1</td>\n",
       "    </tr>\n",
       "    <tr>\n",
       "      <th>3</th>\n",
       "      <td>1</td>\n",
       "      <td>2</td>\n",
       "      <td>12</td>\n",
       "      <td>8.788848e+05</td>\n",
       "      <td>0</td>\n",
       "      <td>0</td>\n",
       "      <td>0</td>\n",
       "      <td>1</td>\n",
       "    </tr>\n",
       "    <tr>\n",
       "      <th>4</th>\n",
       "      <td>2</td>\n",
       "      <td>5</td>\n",
       "      <td>19</td>\n",
       "      <td>1.250968e+06</td>\n",
       "      <td>36</td>\n",
       "      <td>1</td>\n",
       "      <td>1</td>\n",
       "      <td>1</td>\n",
       "    </tr>\n",
       "    <tr>\n",
       "      <th>...</th>\n",
       "      <td>...</td>\n",
       "      <td>...</td>\n",
       "      <td>...</td>\n",
       "      <td>...</td>\n",
       "      <td>...</td>\n",
       "      <td>...</td>\n",
       "      <td>...</td>\n",
       "      <td>...</td>\n",
       "    </tr>\n",
       "    <tr>\n",
       "      <th>395</th>\n",
       "      <td>1</td>\n",
       "      <td>2</td>\n",
       "      <td>13</td>\n",
       "      <td>1.108607e+06</td>\n",
       "      <td>7</td>\n",
       "      <td>1</td>\n",
       "      <td>0</td>\n",
       "      <td>0</td>\n",
       "    </tr>\n",
       "    <tr>\n",
       "      <th>396</th>\n",
       "      <td>1</td>\n",
       "      <td>1</td>\n",
       "      <td>9</td>\n",
       "      <td>5.961114e+05</td>\n",
       "      <td>14</td>\n",
       "      <td>0</td>\n",
       "      <td>1</td>\n",
       "      <td>1</td>\n",
       "    </tr>\n",
       "    <tr>\n",
       "      <th>397</th>\n",
       "      <td>2</td>\n",
       "      <td>3</td>\n",
       "      <td>9</td>\n",
       "      <td>8.408007e+05</td>\n",
       "      <td>0</td>\n",
       "      <td>1</td>\n",
       "      <td>1</td>\n",
       "      <td>0</td>\n",
       "    </tr>\n",
       "    <tr>\n",
       "      <th>398</th>\n",
       "      <td>2</td>\n",
       "      <td>7</td>\n",
       "      <td>19</td>\n",
       "      <td>1.241644e+06</td>\n",
       "      <td>4</td>\n",
       "      <td>0</td>\n",
       "      <td>1</td>\n",
       "      <td>0</td>\n",
       "    </tr>\n",
       "    <tr>\n",
       "      <th>399</th>\n",
       "      <td>3</td>\n",
       "      <td>3</td>\n",
       "      <td>5</td>\n",
       "      <td>5.686441e+05</td>\n",
       "      <td>2</td>\n",
       "      <td>0</td>\n",
       "      <td>1</td>\n",
       "      <td>1</td>\n",
       "    </tr>\n",
       "  </tbody>\n",
       "</table>\n",
       "<p>400 rows × 8 columns</p>\n",
       "</div>"
      ],
      "text/plain": [
       "     Liga  Prácticas  Horas_Entrenando        Precio  Juegos  Gimnasio_Sí  \\\n",
       "0       1          2                 8  5.983374e+05      16            1   \n",
       "1       3          6                 8  5.024140e+05      16            0   \n",
       "2       1          1                 9  5.836377e+05      11            0   \n",
       "3       1          2                12  8.788848e+05       0            0   \n",
       "4       2          5                19  1.250968e+06      36            1   \n",
       "..    ...        ...               ...           ...     ...          ...   \n",
       "395     1          2                13  1.108607e+06       7            1   \n",
       "396     1          1                 9  5.961114e+05      14            0   \n",
       "397     2          3                 9  8.408007e+05       0            1   \n",
       "398     2          7                19  1.241644e+06       4            0   \n",
       "399     3          3                 5  5.686441e+05       2            0   \n",
       "\n",
       "     Fuma_Sí  Nutriólogo_Sí  \n",
       "0          0              0  \n",
       "1          0              0  \n",
       "2          1              1  \n",
       "3          0              1  \n",
       "4          1              1  \n",
       "..       ...            ...  \n",
       "395        0              0  \n",
       "396        1              1  \n",
       "397        1              0  \n",
       "398        1              0  \n",
       "399        1              1  \n",
       "\n",
       "[400 rows x 8 columns]"
      ]
     },
     "execution_count": 27,
     "metadata": {},
     "output_type": "execute_result"
    }
   ],
   "source": [
    "# Convert categorical columns to dummy variables with integer type\n",
    "data_trans = pd.get_dummies(\n",
    "    data_clean,\n",
    "    columns=lista_categoricos,\n",
    "    drop_first=True,\n",
    "    dtype=int  # Add this parameter\n",
    ")\n",
    "data_trans"
   ]
  },
  {
   "cell_type": "markdown",
   "metadata": {},
   "source": [
    "Comprobar que las categóricas ahora son numéricas"
   ]
  },
  {
   "cell_type": "code",
   "execution_count": 29,
   "metadata": {},
   "outputs": [
    {
     "name": "stdout",
     "output_type": "stream",
     "text": [
      "<class 'pandas.core.frame.DataFrame'>\n",
      "RangeIndex: 400 entries, 0 to 399\n",
      "Data columns (total 8 columns):\n",
      " #   Column            Non-Null Count  Dtype  \n",
      "---  ------            --------------  -----  \n",
      " 0   Liga              400 non-null    int64  \n",
      " 1   Prácticas         400 non-null    int64  \n",
      " 2   Horas_Entrenando  400 non-null    int64  \n",
      " 3   Precio            400 non-null    float64\n",
      " 4   Juegos            400 non-null    int64  \n",
      " 5   Gimnasio_Sí       400 non-null    int64  \n",
      " 6   Fuma_Sí           400 non-null    int64  \n",
      " 7   Nutriólogo_Sí     400 non-null    int64  \n",
      "dtypes: float64(1), int64(7)\n",
      "memory usage: 25.1 KB\n"
     ]
    }
   ],
   "source": [
    "data_trans.info()\n",
    "# Todo debe ser int64 o float64, pero no objetos como en data_clean"
   ]
  },
  {
   "cell_type": "markdown",
   "metadata": {},
   "source": [
    "# Scikit Learn"
   ]
  },
  {
   "cell_type": "markdown",
   "metadata": {},
   "source": [
    "Normaliza los datos utilizando el escalador de datos"
   ]
  },
  {
   "cell_type": "code",
   "execution_count": 30,
   "metadata": {},
   "outputs": [],
   "source": [
    "# El modelo no puede recibir datos que estén tan lejos unos de otros, por tanto hay q normalizarlos\n",
    "\n",
    "# Normalizar los datos con sklearn\n",
    "\n",
    "from sklearn.preprocessing import MinMaxScaler, StandardScaler, RobustScaler"
   ]
  }
 ],
 "metadata": {
  "kernelspec": {
   "display_name": "dsc",
   "language": "python",
   "name": "python3"
  },
  "language_info": {
   "codemirror_mode": {
    "name": "ipython",
    "version": 3
   },
   "file_extension": ".py",
   "mimetype": "text/x-python",
   "name": "python",
   "nbconvert_exporter": "python",
   "pygments_lexer": "ipython3",
   "version": "3.11.11"
  }
 },
 "nbformat": 4,
 "nbformat_minor": 2
}
