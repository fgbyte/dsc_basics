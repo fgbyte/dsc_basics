{
 "cells": [
  {
   "cell_type": "markdown",
   "metadata": {},
   "source": [
    "### Matplotlib\n",
    "\n"
   ]
  },
  {
   "cell_type": "markdown",
   "metadata": {},
   "source": [
    "Es la biblioteca basica para graficar en python.\n",
    "\n",
    "- Nos sirve para graficas simples y rapidas\n",
    "- Es muy flexible\n",
    "- Es la que vamos a usar constantemente"
   ]
  },
  {
   "cell_type": "markdown",
   "metadata": {},
   "source": [
    "Vamos a crear de manera random los datos necesarios para el ejercicio.\n",
    "\n",
    "- Let's simulate a scenario where increases in training hours correlate with a player's price."
   ]
  },
  {
   "cell_type": "code",
   "execution_count": 1,
   "metadata": {},
   "outputs": [
    {
     "name": "stdout",
     "output_type": "stream",
     "text": [
      "   Id     Nombre  Liga  Prácticas  Horas_Entrenando    Altura        Precio  \\\n",
      "0   1  Jugador 1     2          6                 5  1.801013  6.901567e+05   \n",
      "1   2  Jugador 2     2          1                15  1.623170  1.134086e+06   \n",
      "2   3  Jugador 3     2          7                15  1.713289  9.612938e+05   \n",
      "3   4  Jugador 4     3          3                19  1.704865  1.622507e+06   \n",
      "4   5  Jugador 5     1          3                14  1.660944  1.289953e+06   \n",
      "\n",
      "   Juegos Gimnasio Fuma Nacimiento Nutriólogo  Horas_Casa  \n",
      "0      15       No   No 2000-07-08         No           8  \n",
      "1      10       Sí   Sí 1998-01-23         Sí           9  \n",
      "2       3       No   Sí 1993-04-21         Sí           7  \n",
      "3      37       No   Sí 2002-02-17         Sí           8  \n",
      "4       6       Sí   Sí 1995-04-15         No           9  \n",
      "<class 'pandas.core.frame.DataFrame'>\n",
      "RangeIndex: 400 entries, 0 to 399\n",
      "Data columns (total 13 columns):\n",
      " #   Column            Non-Null Count  Dtype         \n",
      "---  ------            --------------  -----         \n",
      " 0   Id                400 non-null    int64         \n",
      " 1   Nombre            400 non-null    object        \n",
      " 2   Liga              400 non-null    int64         \n",
      " 3   Prácticas         400 non-null    int64         \n",
      " 4   Horas_Entrenando  400 non-null    int64         \n",
      " 5   Altura            400 non-null    float64       \n",
      " 6   Precio            400 non-null    float64       \n",
      " 7   Juegos            400 non-null    int64         \n",
      " 8   Gimnasio          400 non-null    object        \n",
      " 9   Fuma              400 non-null    object        \n",
      " 10  Nacimiento        400 non-null    datetime64[ns]\n",
      " 11  Nutriólogo        400 non-null    object        \n",
      " 12  Horas_Casa        400 non-null    int64         \n",
      "dtypes: datetime64[ns](1), float64(2), int64(6), object(4)\n",
      "memory usage: 40.8+ KB\n",
      "None\n",
      "DataFrame exported to futbolistas.xlsx ⚽\n"
     ]
    }
   ],
   "source": [
    "import pandas as pd\n",
    "import numpy as np\n",
    "\n",
    "# Número de futbolistas\n",
    "num_futbolistas = 400\n",
    "\n",
    "# Generar datos aleatorios para cada columna\n",
    "# Generamos las horas de entrenamiento\n",
    "horas_entre = np.random.randint(5, 20, num_futbolistas)\n",
    "data = {\n",
    "    'Id': np.arange(1, num_futbolistas + 1),\n",
    "    'Nombre': [f\"Jugador {i}\" for i in range(1, num_futbolistas + 1)],\n",
    "    'Liga': np.random.randint(1, 4, num_futbolistas),  # Asumiendo 3 ligas\n",
    "    'Prácticas': np.random.randint(1, 8, num_futbolistas),\n",
    "    'Horas_Entrenando': horas_entre,\n",
    "    # Altura en metros\n",
    "    'Altura': np.random.uniform(1.60, 1.95, num_futbolistas),\n",
    "    # El precio depende de las horas de entrenamiento\n",
    "    'Precio': 100000 + (horas_entre * np.random.randint(50000, 100000, num_futbolistas)) + np.random.normal(0, 100000, num_futbolistas),\n",
    "    'Juegos': np.random.randint(0, 40, num_futbolistas),\n",
    "    'Gimnasio': np.random.choice(['Sí', 'No'], num_futbolistas),\n",
    "    'Fuma': np.random.choice(['Sí', 'No'], num_futbolistas),\n",
    "    'Nacimiento': pd.to_datetime(np.random.choice(pd.date_range('1990-01-01', '2003-12-31'), num_futbolistas)),\n",
    "    'Nutriólogo': np.random.choice(['Sí', 'No'], num_futbolistas),\n",
    "    'Horas_Casa': np.random.randint(5, 15, num_futbolistas)\n",
    "}\n",
    "\n",
    "# Crear el DataFrame\n",
    "df_futbolistas = pd.DataFrame(data)\n",
    "\n",
    "# Imprimir las primeras 5 filas del DataFrame para verificar\n",
    "print(df_futbolistas.head())\n",
    "\n",
    "# Imprimir información sobre el DataFrame (columnas y tipos de datos)\n",
    "print(df_futbolistas.info())\n",
    "\n",
    "\n",
    "# Export to Excel\n",
    "df_futbolistas.to_excel(\"../db/futbolistas.xlsx\", index=False)\n",
    "print(\"DataFrame exported to futbolistas.xlsx ⚽\")"
   ]
  },
  {
   "cell_type": "markdown",
   "metadata": {},
   "source": [
    "> Continuamos con el ejercicio ahora con el excel generado como si fuera la fuente de datos original."
   ]
  },
  {
   "cell_type": "markdown",
   "metadata": {},
   "source": [
    "Lee el archivo de excel llamado 'futbolistas.xlsx' desde la carpeta 'db', estableciendo la columna 'Id' como index y parseando la columna 'Nacimiento' como fecha."
   ]
  },
  {
   "cell_type": "code",
   "execution_count": 2,
   "metadata": {},
   "outputs": [
    {
     "data": {
      "text/html": [
       "<div>\n",
       "<style scoped>\n",
       "    .dataframe tbody tr th:only-of-type {\n",
       "        vertical-align: middle;\n",
       "    }\n",
       "\n",
       "    .dataframe tbody tr th {\n",
       "        vertical-align: top;\n",
       "    }\n",
       "\n",
       "    .dataframe thead th {\n",
       "        text-align: right;\n",
       "    }\n",
       "</style>\n",
       "<table border=\"1\" class=\"dataframe\">\n",
       "  <thead>\n",
       "    <tr style=\"text-align: right;\">\n",
       "      <th></th>\n",
       "      <th>Nombre</th>\n",
       "      <th>Liga</th>\n",
       "      <th>Prácticas</th>\n",
       "      <th>Horas_Entrenando</th>\n",
       "      <th>Altura</th>\n",
       "      <th>Precio</th>\n",
       "      <th>Juegos</th>\n",
       "      <th>Gimnasio</th>\n",
       "      <th>Fuma</th>\n",
       "      <th>Nacimiento</th>\n",
       "      <th>Nutriólogo</th>\n",
       "      <th>Horas_Casa</th>\n",
       "    </tr>\n",
       "    <tr>\n",
       "      <th>Id</th>\n",
       "      <th></th>\n",
       "      <th></th>\n",
       "      <th></th>\n",
       "      <th></th>\n",
       "      <th></th>\n",
       "      <th></th>\n",
       "      <th></th>\n",
       "      <th></th>\n",
       "      <th></th>\n",
       "      <th></th>\n",
       "      <th></th>\n",
       "      <th></th>\n",
       "    </tr>\n",
       "  </thead>\n",
       "  <tbody>\n",
       "    <tr>\n",
       "      <th>1</th>\n",
       "      <td>Jugador 1</td>\n",
       "      <td>2</td>\n",
       "      <td>6</td>\n",
       "      <td>5</td>\n",
       "      <td>1.801013</td>\n",
       "      <td>6.901567e+05</td>\n",
       "      <td>15</td>\n",
       "      <td>No</td>\n",
       "      <td>No</td>\n",
       "      <td>2000-07-08</td>\n",
       "      <td>No</td>\n",
       "      <td>8</td>\n",
       "    </tr>\n",
       "    <tr>\n",
       "      <th>2</th>\n",
       "      <td>Jugador 2</td>\n",
       "      <td>2</td>\n",
       "      <td>1</td>\n",
       "      <td>15</td>\n",
       "      <td>1.623170</td>\n",
       "      <td>1.134086e+06</td>\n",
       "      <td>10</td>\n",
       "      <td>Sí</td>\n",
       "      <td>Sí</td>\n",
       "      <td>1998-01-23</td>\n",
       "      <td>Sí</td>\n",
       "      <td>9</td>\n",
       "    </tr>\n",
       "    <tr>\n",
       "      <th>3</th>\n",
       "      <td>Jugador 3</td>\n",
       "      <td>2</td>\n",
       "      <td>7</td>\n",
       "      <td>15</td>\n",
       "      <td>1.713289</td>\n",
       "      <td>9.612938e+05</td>\n",
       "      <td>3</td>\n",
       "      <td>No</td>\n",
       "      <td>Sí</td>\n",
       "      <td>1993-04-21</td>\n",
       "      <td>Sí</td>\n",
       "      <td>7</td>\n",
       "    </tr>\n",
       "    <tr>\n",
       "      <th>4</th>\n",
       "      <td>Jugador 4</td>\n",
       "      <td>3</td>\n",
       "      <td>3</td>\n",
       "      <td>19</td>\n",
       "      <td>1.704865</td>\n",
       "      <td>1.622507e+06</td>\n",
       "      <td>37</td>\n",
       "      <td>No</td>\n",
       "      <td>Sí</td>\n",
       "      <td>2002-02-17</td>\n",
       "      <td>Sí</td>\n",
       "      <td>8</td>\n",
       "    </tr>\n",
       "    <tr>\n",
       "      <th>5</th>\n",
       "      <td>Jugador 5</td>\n",
       "      <td>1</td>\n",
       "      <td>3</td>\n",
       "      <td>14</td>\n",
       "      <td>1.660944</td>\n",
       "      <td>1.289953e+06</td>\n",
       "      <td>6</td>\n",
       "      <td>Sí</td>\n",
       "      <td>Sí</td>\n",
       "      <td>1995-04-15</td>\n",
       "      <td>No</td>\n",
       "      <td>9</td>\n",
       "    </tr>\n",
       "    <tr>\n",
       "      <th>...</th>\n",
       "      <td>...</td>\n",
       "      <td>...</td>\n",
       "      <td>...</td>\n",
       "      <td>...</td>\n",
       "      <td>...</td>\n",
       "      <td>...</td>\n",
       "      <td>...</td>\n",
       "      <td>...</td>\n",
       "      <td>...</td>\n",
       "      <td>...</td>\n",
       "      <td>...</td>\n",
       "      <td>...</td>\n",
       "    </tr>\n",
       "    <tr>\n",
       "      <th>396</th>\n",
       "      <td>Jugador 396</td>\n",
       "      <td>2</td>\n",
       "      <td>7</td>\n",
       "      <td>9</td>\n",
       "      <td>1.944044</td>\n",
       "      <td>9.167777e+05</td>\n",
       "      <td>17</td>\n",
       "      <td>No</td>\n",
       "      <td>No</td>\n",
       "      <td>1990-04-22</td>\n",
       "      <td>Sí</td>\n",
       "      <td>14</td>\n",
       "    </tr>\n",
       "    <tr>\n",
       "      <th>397</th>\n",
       "      <td>Jugador 397</td>\n",
       "      <td>3</td>\n",
       "      <td>7</td>\n",
       "      <td>9</td>\n",
       "      <td>1.747065</td>\n",
       "      <td>8.651895e+05</td>\n",
       "      <td>12</td>\n",
       "      <td>No</td>\n",
       "      <td>Sí</td>\n",
       "      <td>2000-10-25</td>\n",
       "      <td>No</td>\n",
       "      <td>12</td>\n",
       "    </tr>\n",
       "    <tr>\n",
       "      <th>398</th>\n",
       "      <td>Jugador 398</td>\n",
       "      <td>2</td>\n",
       "      <td>2</td>\n",
       "      <td>7</td>\n",
       "      <td>1.807829</td>\n",
       "      <td>3.736338e+05</td>\n",
       "      <td>31</td>\n",
       "      <td>No</td>\n",
       "      <td>No</td>\n",
       "      <td>1998-05-27</td>\n",
       "      <td>Sí</td>\n",
       "      <td>10</td>\n",
       "    </tr>\n",
       "    <tr>\n",
       "      <th>399</th>\n",
       "      <td>Jugador 399</td>\n",
       "      <td>2</td>\n",
       "      <td>2</td>\n",
       "      <td>12</td>\n",
       "      <td>1.881519</td>\n",
       "      <td>7.723849e+05</td>\n",
       "      <td>32</td>\n",
       "      <td>No</td>\n",
       "      <td>No</td>\n",
       "      <td>2000-11-04</td>\n",
       "      <td>Sí</td>\n",
       "      <td>7</td>\n",
       "    </tr>\n",
       "    <tr>\n",
       "      <th>400</th>\n",
       "      <td>Jugador 400</td>\n",
       "      <td>1</td>\n",
       "      <td>3</td>\n",
       "      <td>6</td>\n",
       "      <td>1.622904</td>\n",
       "      <td>5.395304e+05</td>\n",
       "      <td>12</td>\n",
       "      <td>Sí</td>\n",
       "      <td>Sí</td>\n",
       "      <td>2002-09-19</td>\n",
       "      <td>No</td>\n",
       "      <td>8</td>\n",
       "    </tr>\n",
       "  </tbody>\n",
       "</table>\n",
       "<p>400 rows × 12 columns</p>\n",
       "</div>"
      ],
      "text/plain": [
       "          Nombre  Liga  Prácticas  Horas_Entrenando    Altura        Precio  \\\n",
       "Id                                                                            \n",
       "1      Jugador 1     2          6                 5  1.801013  6.901567e+05   \n",
       "2      Jugador 2     2          1                15  1.623170  1.134086e+06   \n",
       "3      Jugador 3     2          7                15  1.713289  9.612938e+05   \n",
       "4      Jugador 4     3          3                19  1.704865  1.622507e+06   \n",
       "5      Jugador 5     1          3                14  1.660944  1.289953e+06   \n",
       "..           ...   ...        ...               ...       ...           ...   \n",
       "396  Jugador 396     2          7                 9  1.944044  9.167777e+05   \n",
       "397  Jugador 397     3          7                 9  1.747065  8.651895e+05   \n",
       "398  Jugador 398     2          2                 7  1.807829  3.736338e+05   \n",
       "399  Jugador 399     2          2                12  1.881519  7.723849e+05   \n",
       "400  Jugador 400     1          3                 6  1.622904  5.395304e+05   \n",
       "\n",
       "     Juegos Gimnasio Fuma Nacimiento Nutriólogo  Horas_Casa  \n",
       "Id                                                           \n",
       "1        15       No   No 2000-07-08         No           8  \n",
       "2        10       Sí   Sí 1998-01-23         Sí           9  \n",
       "3         3       No   Sí 1993-04-21         Sí           7  \n",
       "4        37       No   Sí 2002-02-17         Sí           8  \n",
       "5         6       Sí   Sí 1995-04-15         No           9  \n",
       "..      ...      ...  ...        ...        ...         ...  \n",
       "396      17       No   No 1990-04-22         Sí          14  \n",
       "397      12       No   Sí 2000-10-25         No          12  \n",
       "398      31       No   No 1998-05-27         Sí          10  \n",
       "399      32       No   No 2000-11-04         Sí           7  \n",
       "400      12       Sí   Sí 2002-09-19         No           8  \n",
       "\n",
       "[400 rows x 12 columns]"
      ]
     },
     "execution_count": 2,
     "metadata": {},
     "output_type": "execute_result"
    }
   ],
   "source": [
    "futbolistas = pd.read_excel(\n",
    "    '../db/futbolistas.xlsx', index_col='Id', parse_dates=['Nacimiento'])\n",
    "futbolistas"
   ]
  },
  {
   "cell_type": "markdown",
   "metadata": {},
   "source": [
    "Crea un gráfico de dispersion con las \"horas de entrenamiento\" en el eje x y el \"precio\" en el eje y"
   ]
  },
  {
   "cell_type": "code",
   "execution_count": 3,
   "metadata": {},
   "outputs": [
    {
     "data": {
      "text/plain": [
       "<Axes: xlabel='Horas_Entrenando', ylabel='Precio'>"
      ]
     },
     "execution_count": 3,
     "metadata": {},
     "output_type": "execute_result"
    },
    {
     "data": {
      "image/png": "[encoded data removed]",
      "text/plain": [
       "<Figure size 640x480 with 1 Axes>"
      ]
     },
     "metadata": {},
     "output_type": "display_data"
    }
   ],
   "source": [
    "futbolistas.plot.scatter(x='Horas_Entrenando', y='Precio', alpha=0.5)\n",
    "# scatter plot -> gráfico de dispersión"
   ]
  },
  {
   "cell_type": "markdown",
   "metadata": {},
   "source": [
    "Crea un gráfico de pastel con la distribución de jugadores por liga"
   ]
  },
  {
   "cell_type": "code",
   "execution_count": 4,
   "metadata": {},
   "outputs": [
    {
     "data": {
      "text/plain": [
       "Liga\n",
       "1    151\n",
       "2    129\n",
       "3    120\n",
       "dtype: int64"
      ]
     },
     "execution_count": 4,
     "metadata": {},
     "output_type": "execute_result"
    }
   ],
   "source": [
    "ligas = futbolistas.groupby(by='Liga').size()\n",
    "ligas"
   ]
  },
  {
   "cell_type": "code",
   "execution_count": 5,
   "metadata": {},
   "outputs": [
    {
     "data": {
      "text/plain": [
       "<Axes: >"
      ]
     },
     "execution_count": 5,
     "metadata": {},
     "output_type": "execute_result"
    },
    {
     "data": {
      "image/png": "[encoded data removed]",
      "text/plain": [
       "<Figure size 640x480 with 1 Axes>"
      ]
     },
     "metadata": {},
     "output_type": "display_data"
    }
   ],
   "source": [
    "ligas.plot.pie(y='Liga', autopct='%1.1f%%')"
   ]
  },
  {
   "cell_type": "markdown",
   "metadata": {},
   "source": [
    "Crea una tabla pivote con las horas de entrenamiento según las practicas y si fuma o no"
   ]
  }
 ],
 "metadata": {
  "kernelspec": {
   "display_name": "data_basics",
   "language": "python",
   "name": "python3"
  },
  "language_info": {
   "codemirror_mode": {
    "name": "ipython",
    "version": 3
   },
   "file_extension": ".py",
   "mimetype": "text/x-python",
   "name": "python",
   "nbconvert_exporter": "python",
   "pygments_lexer": "ipython3",
   "version": "3.11.11"
  }
 },
 "nbformat": 4,
 "nbformat_minor": 2
}
