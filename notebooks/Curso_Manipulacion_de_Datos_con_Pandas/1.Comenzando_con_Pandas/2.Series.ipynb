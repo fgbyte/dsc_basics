{
 "cells": [
  {
   "cell_type": "markdown",
   "id": "eb04d749",
   "metadata": {},
   "source": [
    "### Series"
   ]
  },
  {
   "cell_type": "markdown",
   "id": "0af5e36b",
   "metadata": {},
   "source": [
    "Una Serie es una estructura unidimensional que puede contener cualquier tipo de datos (enteros, flotantes, cadenas, etc.). Cada elemento en una Serie tiene una etiqueta, conocida como índice.\n",
    "\n",
    "Están siempre relacionados de 1 a 1."
   ]
  },
  {
   "cell_type": "code",
   "execution_count": null,
   "id": "0e0e090a",
   "metadata": {},
   "outputs": [
    {
     "data": {
      "text/plain": [
       "0    10\n",
       "1     9\n",
       "2     8\n",
       "3     7\n",
       "4     6\n",
       "dtype: int64"
      ]
     },
     "metadata": {},
     "output_type": "display_data"
    }
   ],
   "source": [
    "import pandas as pd\n",
    "\n",
    "sr = pd.Series([10, 9, 8, 7, 6])\n",
    "\n",
    "sr"
   ]
  },
  {
   "cell_type": "code",
   "execution_count": null,
   "id": "f4acc44d",
   "metadata": {},
   "outputs": [
    {
     "data": {
      "text/plain": [
       "array([10,  9,  8,  7,  6])"
      ]
     },
     "metadata": {},
     "output_type": "display_data"
    }
   ],
   "source": [
    "sr.values"
   ]
  },
  {
   "cell_type": "code",
   "execution_count": null,
   "id": "1c12916f",
   "metadata": {},
   "outputs": [
    {
     "data": {
      "text/plain": [
       "RangeIndex(start=0, stop=5, step=1)"
      ]
     },
     "metadata": {},
     "output_type": "display_data"
    }
   ],
   "source": [
    "sr.index"
   ]
  },
  {
   "cell_type": "code",
   "execution_count": null,
   "id": "dd7eab7d",
   "metadata": {},
   "outputs": [
    {
     "data": {
      "text/plain": [
       "(5,)"
      ]
     },
     "metadata": {},
     "output_type": "display_data"
    }
   ],
   "source": [
    "sr.shape"
   ]
  },
  {
   "cell_type": "code",
   "execution_count": null,
   "id": "1d73cf91",
   "metadata": {},
   "outputs": [
    {
     "data": {
      "text/plain": [
       "np.int64(7)"
      ]
     },
     "metadata": {},
     "output_type": "display_data"
    }
   ],
   "source": [
    "# llamar al 4to elemento\n",
    "sr[3]  # np.int64(7)\n",
    "# numpy, integer de 64 bits = 7"
   ]
  },
  {
   "cell_type": "code",
   "execution_count": null,
   "id": "f27096af",
   "metadata": {},
   "outputs": [
    {
     "data": {
      "text/plain": [
       "0    10\n",
       "4     6\n",
       "2     8\n",
       "dtype: int64"
      ]
     },
     "metadata": {},
     "output_type": "display_data"
    }
   ],
   "source": [
    "# llamar a los index 0,4,2\n",
    "\n",
    "sr[[0, 4, 2]]"
   ]
  },
  {
   "cell_type": "code",
   "execution_count": null,
   "id": "fa4ea36b",
   "metadata": {},
   "outputs": [
    {
     "data": {
      "text/plain": [
       "a    10\n",
       "b     9\n",
       "c     8\n",
       "d     7\n",
       "e     6\n",
       "dtype: int64"
      ]
     },
     "metadata": {},
     "output_type": "display_data"
    }
   ],
   "source": [
    "# cambiar los index de números a letras\n",
    "\n",
    "sr = pd.Series([10, 9, 8, 7, 6], index=['a', 'b', 'c', 'd', 'e'])\n",
    "sr"
   ]
  },
  {
   "cell_type": "code",
   "execution_count": null,
   "id": "7f34af19",
   "metadata": {},
   "outputs": [
    {
     "data": {
      "text/plain": [
       "c    8\n",
       "d    7\n",
       "dtype: int64"
      ]
     },
     "metadata": {},
     "output_type": "display_data"
    }
   ],
   "source": [
    "sr['c']  # llamar el index c\n",
    "sr[['c', 'd']]  # llamar el index c y d"
   ]
  },
  {
   "cell_type": "code",
   "execution_count": null,
   "id": "6cd4715c",
   "metadata": {},
   "outputs": [
    {
     "data": {
      "text/plain": [
       "b    9\n",
       "c    8\n",
       "d    7\n",
       "e    6\n",
       "dtype: int64"
      ]
     },
     "metadata": {},
     "output_type": "display_data"
    }
   ],
   "source": [
    "sr['b':'e']  # llamar desde el index b hasta el e"
   ]
  },
  {
   "cell_type": "markdown",
   "id": "1f5bbc78",
   "metadata": {},
   "source": [
    "### Diccionarios\n",
    "\n",
    "Es un contenedor que almacena datos en pares clave-valor. Cada clave es única y se utiliza para acceder a su valor correspondiente. Los diccionarios son mutables, lo que significa que se pueden modificar después de su creación.\"\"\""
   ]
  },
  {
   "cell_type": "code",
   "execution_count": null,
   "id": "0983815f",
   "metadata": {},
   "outputs": [],
   "source": [
    "dict_data = {'CO': 100, 'MX': 200, 'AR': 300}"
   ]
  },
  {
   "cell_type": "code",
   "execution_count": null,
   "id": "0589f5e4",
   "metadata": {},
   "outputs": [
    {
     "data": {
      "text/plain": [
       "dict_keys(['CO', 'MX', 'AR'])"
      ]
     },
     "metadata": {},
     "output_type": "display_data"
    }
   ],
   "source": [
    "dict_data.keys()"
   ]
  },
  {
   "cell_type": "code",
   "execution_count": null,
   "id": "35764fa6",
   "metadata": {},
   "outputs": [
    {
     "data": {
      "text/plain": [
       "200"
      ]
     },
     "metadata": {},
     "output_type": "display_data"
    }
   ],
   "source": [
    "dict_data['MX']"
   ]
  },
  {
   "cell_type": "code",
   "execution_count": null,
   "id": "0344f71e",
   "metadata": {},
   "outputs": [
    {
     "data": {
      "text/plain": [
       "CO    100\n",
       "MX    200\n",
       "AR    300\n",
       "dtype: int64"
      ]
     },
     "metadata": {},
     "output_type": "display_data"
    }
   ],
   "source": [
    "# Transformar diccionario en una Serie de pandas\n",
    "\n",
    "sr_dict = pd.Series(dict_data)\n",
    "sr_dict"
   ]
  },
  {
   "cell_type": "code",
   "execution_count": null,
   "id": "bf2c8127",
   "metadata": {},
   "outputs": [
    {
     "data": {
      "text/plain": [
       "MX    200.0\n",
       "CO    100.0\n",
       "PE      NaN\n",
       "dtype: float64"
      ]
     },
     "metadata": {},
     "output_type": "display_data"
    }
   ],
   "source": [
    "# Mutar el diccionario con un nuevo index\n",
    "\n",
    "new_dict = pd.Series(dict_data, index=['MX', 'CO', 'PE'])\n",
    "new_dict"
   ]
  },
  {
   "cell_type": "code",
   "execution_count": null,
   "id": "7e0f0dc6",
   "metadata": {},
   "outputs": [
    {
     "data": {
      "text/plain": [
       "MX    False\n",
       "CO    False\n",
       "PE     True\n",
       "dtype: bool"
      ]
     },
     "metadata": {},
     "output_type": "display_data"
    }
   ],
   "source": [
    "# Ver valores nulos dentro de una Serie\n",
    "new_dict.isnull()"
   ]
  },
  {
   "cell_type": "code",
   "execution_count": null,
   "id": "1c3253a6",
   "metadata": {},
   "outputs": [
    {
     "data": {
      "text/plain": [
       "MX     True\n",
       "CO     True\n",
       "PE    False\n",
       "dtype: bool"
      ]
     },
     "metadata": {},
     "output_type": "display_data"
    }
   ],
   "source": [
    "# Ver los valores que no son nulos en una Serie\n",
    "\n",
    "new_dict.notnull()"
   ]
  }
 ],
 "metadata": {
  "kernelspec": {
   "display_name": "dsc",
   "language": "python",
   "name": "python3"
  },
  "language_info": {
   "name": "python",
   "version": "3.11.11"
  }
 },
 "nbformat": 4,
 "nbformat_minor": 5
}
