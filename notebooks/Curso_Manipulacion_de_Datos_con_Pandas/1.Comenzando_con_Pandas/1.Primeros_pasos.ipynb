{
 "cells": [
  {
   "cell_type": "code",
   "execution_count": 17,
   "id": "9076e24d",
   "metadata": {},
   "outputs": [
    {
     "data": {
      "text/plain": [
       "[1, 2, 3, 4, 5, 10]"
      ]
     },
     "execution_count": 17,
     "metadata": {},
     "output_type": "execute_result"
    }
   ],
   "source": [
    "# En Python no se pueden hacer operaciones matemáticas decentes con Listas\n",
    "\n",
    "\n",
    "# Supongamos que queremos sumar el numero 10 a cada uno de los elementos de una lista.\n",
    "\n",
    "[1, 2, 3, 4, 5] + [10]  # esto solo agrega un elemento al final de la lista"
   ]
  },
  {
   "cell_type": "markdown",
   "id": "7b771563",
   "metadata": {},
   "source": [
    "## Numpy\n",
    "nos permite hacer operaciones matemáticas con listas"
   ]
  },
  {
   "cell_type": "code",
   "execution_count": 18,
   "id": "d2df51f8",
   "metadata": {},
   "outputs": [],
   "source": [
    "import numpy as np"
   ]
  },
  {
   "cell_type": "code",
   "execution_count": 19,
   "id": "565a3651",
   "metadata": {},
   "outputs": [
    {
     "data": {
      "text/plain": [
       "array([11, 12, 13, 14, 15])"
      ]
     },
     "execution_count": 19,
     "metadata": {},
     "output_type": "execute_result"
    }
   ],
   "source": [
    "lista = np.array([1, 2, 3, 4, 5])\n",
    "\n",
    "lista + 10"
   ]
  },
  {
   "cell_type": "code",
   "execution_count": 20,
   "id": "f6ac9057",
   "metadata": {},
   "outputs": [
    {
     "data": {
      "text/plain": [
       "(5,)"
      ]
     },
     "execution_count": 20,
     "metadata": {},
     "output_type": "execute_result"
    }
   ],
   "source": [
    "lista.shape"
   ]
  },
  {
   "cell_type": "markdown",
   "id": "40358508",
   "metadata": {},
   "source": [
    "### Estructuras complejas"
   ]
  },
  {
   "cell_type": "code",
   "execution_count": 21,
   "id": "72998964",
   "metadata": {},
   "outputs": [
    {
     "data": {
      "text/plain": [
       "(2, 4)"
      ]
     },
     "execution_count": 21,
     "metadata": {},
     "output_type": "execute_result"
    }
   ],
   "source": [
    "# Matriz\n",
    "matriz = np.array([[1, 2, 3, 4], [5, 6, 7, 8]])\n",
    "\n",
    "matriz.shape  # 2 dimensiones verticales y 4 horizontales"
   ]
  },
  {
   "cell_type": "code",
   "execution_count": 22,
   "id": "39bf9383",
   "metadata": {},
   "outputs": [
    {
     "data": {
      "text/plain": [
       "np.int64(7)"
      ]
     },
     "execution_count": 22,
     "metadata": {},
     "output_type": "execute_result"
    }
   ],
   "source": [
    "matriz[0]  # nos trae el 1er elemento de la matriz\n",
    "\n",
    "matriz[0][1]  # nos trae el 2do elemento del 1er elemento de la matriz = 2\n",
    "\n",
    "matriz[1][2]  # nos trae el 3er elemento del 2do elemento de la matriz = 7"
   ]
  },
  {
   "cell_type": "markdown",
   "id": "4362fba8",
   "metadata": {},
   "source": [
    "## Pandas\n",
    "\n",
    "pandas trabaja con listas de numpy per default"
   ]
  },
  {
   "cell_type": "code",
   "execution_count": 23,
   "id": "247bb4e8",
   "metadata": {},
   "outputs": [],
   "source": [
    "import pandas as pd"
   ]
  }
 ],
 "metadata": {
  "kernelspec": {
   "display_name": "dsc",
   "language": "python",
   "name": "python3"
  },
  "language_info": {
   "codemirror_mode": {
    "name": "ipython",
    "version": 3
   },
   "file_extension": ".py",
   "mimetype": "text/x-python",
   "name": "python",
   "nbconvert_exporter": "python",
   "pygments_lexer": "ipython3",
   "version": "3.11.11"
  }
 },
 "nbformat": 4,
 "nbformat_minor": 5
}
